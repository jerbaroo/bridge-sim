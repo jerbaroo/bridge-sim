{
 "cells": [
  {
   "cell_type": "markdown",
   "metadata": {},
   "source": [
    "## Question 3"
   ]
  },
  {
   "cell_type": "markdown",
   "metadata": {},
   "source": [
    "#### Imports"
   ]
  },
  {
   "cell_type": "code",
   "execution_count": 1,
   "metadata": {},
   "outputs": [],
   "source": [
    "import itertools\n",
    "import os\n",
    "\n",
    "import numpy as np\n",
    "\n",
    "from classify.data.responses import responses_to_traffic_array\n",
    "from classify.data.traffic import load_traffic\n",
    "from classify.scenario.bridge import healthy_damage, pier_disp_damage\n",
    "from classify.scenario.traffic import normal_traffic\n",
    "from model.bridge import Point\n",
    "from model.bridge.bridge_705 import bridge_705_3d, bridge_705_med_config\n",
    "from model.response import ResponseType\n",
    "from util import resize_units"
   ]
  },
  {
   "cell_type": "markdown",
   "metadata": {},
   "source": [
    "#### Config"
   ]
  },
  {
   "cell_type": "code",
   "execution_count": 2,
   "metadata": {},
   "outputs": [
    {
     "name": "stdout",
     "output_type": "stream",
     "text": [
      "INFO: Loaded vehicle data from /Users/jeremy/cs/bridge-dss/data/a16-data/a16.csv in 0.09s\n",
      "WARN: Vehicle PDF sums to 99.5, adjusted to sum to 1\n"
     ]
    }
   ],
   "source": [
    "DATA_PATH = \"/Users/jeremy/Desktop/mesh-med-600-mar/\"\n",
    "IMAGE_PATH = \"/Users/jeremy/Desktop/saved-images/\"\n",
    "c = bridge_705_med_config(bridge_705_3d)\n",
    "# Set the directory of where to save/load responses.\n",
    "c.root_generated_data_dir = os.path.join(DATA_PATH, c.root_generated_data_dir)"
   ]
  },
  {
   "cell_type": "markdown",
   "metadata": {},
   "source": [
    "#### Aliases and sensors"
   ]
  },
  {
   "cell_type": "code",
   "execution_count": 3,
   "metadata": {},
   "outputs": [],
   "source": [
    "# Short aliases for response types.\n",
    "rt_y = ResponseType.YTranslation\n",
    "rt_s = ResponseType.Strain\n",
    "\n",
    "# Create functions to resize, and unit strings, for each response type.\n",
    "resize_y, units_y = resize_units(rt_y.units())\n",
    "resize_s, _ = resize_units(rt_s.units())\n",
    "\n",
    "sensor_point = Point(x=21, y=0, z=-8.4)  # A sensor point to investigate.\n",
    "sensor_point = Point(x=33, y=0, z=-4)  # A sensor point to investigate."
   ]
  },
  {
   "cell_type": "markdown",
   "metadata": {},
   "source": [
    "#### Traffic data"
   ]
  },
  {
   "cell_type": "code",
   "execution_count": 4,
   "metadata": {},
   "outputs": [
    {
     "name": "stdout",
     "output_type": "stream",
     "text": [
      "/Users/jeremy/Desktop/mesh-med-600-mar/generated-data/bridge-705-3d/healthy/traffic/normal-lam-5-600-1440-0,01.npy\n"
     ]
    }
   ],
   "source": [
    "total_mins = 24\n",
    "total_seconds = total_mins * 60\n",
    "traffic_scenario = normal_traffic(c=c, lam=5, min_d=2)\n",
    "traffic_sequence_0, traffic_0, traffic_array_0 = load_traffic(\n",
    "    c=c,\n",
    "    traffic_scenario=traffic_scenario,\n",
    "    max_time=total_seconds,\n",
    ")"
   ]
  },
  {
   "cell_type": "markdown",
   "metadata": {},
   "source": [
    "#### Setup damage scenarios."
   ]
  },
  {
   "cell_type": "code",
   "execution_count": 5,
   "metadata": {},
   "outputs": [],
   "source": [
    "damage_scenarios = [healthy_damage]\n",
    "traffic_arrays = [traffic_array_0]\n",
    "damage_names = [\"Healthy\"]\n",
    "for pier_settlement in np.arange(start=0, stop=3, step=0.05):\n",
    "    damage_scenarios.append(pier_disp_damage([(5, pier_settlement / 1000)]))\n",
    "    traffic_arrays.append(traffic_array_0)\n",
    "    damage_names.append(f\"Settlement of pier 5 by {pier_settlement:.0f} mm\")\n",
    "response_types = [rt_y, rt_s]"
   ]
  },
  {
   "cell_type": "markdown",
   "metadata": {},
   "source": [
    "#### Collect responses under each damage scenario."
   ]
  },
  {
   "cell_type": "code",
   "execution_count": 6,
   "metadata": {},
   "outputs": [
    {
     "name": "stdout",
     "output_type": "stream",
     "text": [
      "(144001, 2400)\n",
      "(2400, 1)\n",
      "(144001, 2400)\n",
      "(2400, 1)\n",
      "(144001, 2400)\n",
      "(2400, 1)\n",
      "(144001, 2400)uilt FEMResponses in 0.01s, (ResponseType.YTranslation)\n",
      "(2400, 1)\n",
      "(144001, 2400)uilt FEMResponses in 0.02s, (ResponseType.Strain)\n",
      "(2400, 1)\n",
      "(144001, 2400)uilt FEMResponses in 0.01s, (ResponseType.YTranslation)\n",
      "(2400, 1)\n",
      "(144001, 2400)uilt FEMResponses in 0.01s, (ResponseType.Strain)\n",
      "(2400, 1)\n",
      "(144001, 2400)uilt FEMResponses in 0.01s, (ResponseType.YTranslation)\n",
      "(2400, 1)\n",
      "(144001, 2400)uilt FEMResponses in 0.02s, (ResponseType.Strain)\n",
      "(2400, 1)\n",
      "(144001, 2400)uilt FEMResponses in 0.01s, (ResponseType.YTranslation)\n",
      "(2400, 1)\n",
      "(144001, 2400)uilt FEMResponses in 0.02s, (ResponseType.Strain)\n",
      "(2400, 1)\n",
      "(144001, 2400)uilt FEMResponses in 0.01s, (ResponseType.YTranslation)\n",
      "(2400, 1)\n",
      "(144001, 2400)uilt FEMResponses in 0.02s, (ResponseType.Strain)\n",
      "(2400, 1)\n",
      "(144001, 2400)uilt FEMResponses in 0.01s, (ResponseType.YTranslation)\n",
      "(2400, 1)\n",
      "(144001, 2400)uilt FEMResponses in 0.01s, (ResponseType.Strain)\n",
      "(2400, 1)\n",
      "(144001, 2400)uilt FEMResponses in 0.01s, (ResponseType.YTranslation)\n",
      "(2400, 1)\n",
      "(144001, 2400)uilt FEMResponses in 0.02s, (ResponseType.Strain)\n",
      "(2400, 1)\n",
      "(144001, 2400)uilt FEMResponses in 0.01s, (ResponseType.YTranslation)\n",
      "(2400, 1)\n",
      "(144001, 2400)uilt FEMResponses in 0.01s, (ResponseType.Strain)\n",
      "(2400, 1)\n",
      "(144001, 2400)uilt FEMResponses in 0.01s, (ResponseType.YTranslation)\n",
      "(2400, 1)\n",
      "(144001, 2400)uilt FEMResponses in 0.01s, (ResponseType.Strain)\n",
      "(2400, 1)\n",
      "(144001, 2400)uilt FEMResponses in 0.01s, (ResponseType.YTranslation)\n",
      "(2400, 1)\n",
      "(144001, 2400)uilt FEMResponses in 0.01s, (ResponseType.Strain)\n",
      "(2400, 1)\n",
      "(144001, 2400)uilt FEMResponses in 0.01s, (ResponseType.YTranslation)\n",
      "(2400, 1)\n",
      "(144001, 2400)uilt FEMResponses in 0.03s, (ResponseType.Strain)\n",
      "(2400, 1)\n",
      "(144001, 2400)uilt FEMResponses in 0.02s, (ResponseType.YTranslation)\n",
      "(2400, 1)\n",
      "(144001, 2400)uilt FEMResponses in 0.01s, (ResponseType.Strain)\n",
      "(2400, 1)\n",
      "(144001, 2400)uilt FEMResponses in 0.01s, (ResponseType.YTranslation)\n",
      "(2400, 1)\n",
      "(144001, 2400)uilt FEMResponses in 0.01s, (ResponseType.Strain)\n",
      "(2400, 1)\n",
      "(144001, 2400)uilt FEMResponses in 0.01s, (ResponseType.YTranslation)\n",
      "(2400, 1)\n",
      "(144001, 2400)uilt FEMResponses in 0.02s, (ResponseType.Strain)\n",
      "(2400, 1)\n",
      "(144001, 2400)uilt FEMResponses in 0.01s, (ResponseType.YTranslation)\n",
      "(2400, 1)\n",
      "(144001, 2400)uilt FEMResponses in 0.01s, (ResponseType.Strain)\n",
      "(2400, 1)\n",
      "(144001, 2400)uilt FEMResponses in 0.01s, (ResponseType.YTranslation)\n",
      "(2400, 1)\n",
      "(144001, 2400)uilt FEMResponses in 0.02s, (ResponseType.Strain)\n",
      "(2400, 1)\n",
      "(144001, 2400)uilt FEMResponses in 0.01s, (ResponseType.YTranslation)\n",
      "(2400, 1)\n",
      "(144001, 2400)uilt FEMResponses in 0.02s, (ResponseType.Strain)\n",
      "(2400, 1)\n",
      "(144001, 2400)uilt FEMResponses in 0.01s, (ResponseType.YTranslation)\n",
      "(2400, 1)\n",
      "(144001, 2400)uilt FEMResponses in 0.02s, (ResponseType.Strain)\n",
      "(2400, 1)\n",
      "(144001, 2400)uilt FEMResponses in 0.02s, (ResponseType.YTranslation)\n",
      "(2400, 1)\n",
      "(144001, 2400)uilt FEMResponses in 0.01s, (ResponseType.Strain)\n",
      "(2400, 1)\n",
      "(144001, 2400)uilt FEMResponses in 0.01s, (ResponseType.YTranslation)\n",
      "(2400, 1)\n",
      "(144001, 2400)uilt FEMResponses in 0.01s, (ResponseType.Strain)\n",
      "(2400, 1)\n",
      "(144001, 2400)uilt FEMResponses in 0.01s, (ResponseType.YTranslation)\n",
      "(2400, 1)\n",
      "(144001, 2400)uilt FEMResponses in 0.02s, (ResponseType.Strain)\n",
      "(2400, 1)\n",
      "(144001, 2400)uilt FEMResponses in 0.01s, (ResponseType.YTranslation)\n",
      "(2400, 1)\n",
      "(144001, 2400)uilt FEMResponses in 0.01s, (ResponseType.Strain)\n",
      "(2400, 1)\n",
      "(144001, 2400)uilt FEMResponses in 0.01s, (ResponseType.YTranslation)\n",
      "(2400, 1)\n",
      "(144001, 2400)uilt FEMResponses in 0.01s, (ResponseType.Strain)\n",
      "(2400, 1)\n",
      "(144001, 2400)uilt FEMResponses in 0.01s, (ResponseType.YTranslation)\n",
      "(2400, 1)\n",
      "(144001, 2400)uilt FEMResponses in 0.02s, (ResponseType.Strain)\n",
      "(2400, 1)\n",
      "(144001, 2400)uilt FEMResponses in 0.02s, (ResponseType.YTranslation)\n",
      "(2400, 1)\n",
      "(144001, 2400)uilt FEMResponses in 0.01s, (ResponseType.Strain)\n",
      "(2400, 1)\n",
      "(144001, 2400)uilt FEMResponses in 0.01s, (ResponseType.YTranslation)\n",
      "(2400, 1)\n",
      "(144001, 2400)uilt FEMResponses in 0.02s, (ResponseType.Strain)\n",
      "(2400, 1)\n",
      "(144001, 2400)uilt FEMResponses in 0.01s, (ResponseType.YTranslation)\n",
      "(2400, 1)\n",
      "(144001, 2400)uilt FEMResponses in 0.02s, (ResponseType.Strain)\n",
      "(2400, 1)\n",
      "(144001, 2400)uilt FEMResponses in 0.01s, (ResponseType.YTranslation)\n",
      "(2400, 1)\n",
      "(144001, 2400)uilt FEMResponses in 0.02s, (ResponseType.Strain)\n",
      "(2400, 1)\n",
      "(144001, 2400)uilt FEMResponses in 0.01s, (ResponseType.YTranslation)\n",
      "(2400, 1)\n",
      "(144001, 2400)uilt FEMResponses in 0.01s, (ResponseType.Strain)\n",
      "(2400, 1)\n",
      "(144001, 2400)uilt FEMResponses in 0.01s, (ResponseType.YTranslation)\n",
      "(2400, 1)\n",
      "(144001, 2400)uilt FEMResponses in 0.02s, (ResponseType.Strain)\n",
      "(2400, 1)\n",
      "(144001, 2400)uilt FEMResponses in 0.01s, (ResponseType.YTranslation)\n",
      "(2400, 1)\n",
      "(144001, 2400)uilt FEMResponses in 0.01s, (ResponseType.Strain)\n",
      "(2400, 1)\n",
      "(144001, 2400)uilt FEMResponses in 0.01s, (ResponseType.YTranslation)\n",
      "(2400, 1)\n",
      "(144001, 2400)uilt FEMResponses in 0.01s, (ResponseType.Strain)\n",
      "(2400, 1)\n",
      "(144001, 2400)uilt FEMResponses in 0.01s, (ResponseType.YTranslation)\n",
      "(2400, 1)\n",
      "(144001, 2400)uilt FEMResponses in 0.01s, (ResponseType.Strain)\n",
      "(2400, 1)\n",
      "(144001, 2400)uilt FEMResponses in 0.01s, (ResponseType.YTranslation)\n",
      "(2400, 1)\n",
      "(144001, 2400)uilt FEMResponses in 0.01s, (ResponseType.Strain)\n",
      "(2400, 1)\n",
      "(144001, 2400)uilt FEMResponses in 0.01s, (ResponseType.YTranslation)\n",
      "(2400, 1)\n",
      "(144001, 2400)uilt FEMResponses in 0.01s, (ResponseType.Strain)\n",
      "(2400, 1)\n",
      "(144001, 2400)uilt FEMResponses in 0.01s, (ResponseType.YTranslation)\n",
      "(2400, 1)\n",
      "(144001, 2400)uilt FEMResponses in 0.01s, (ResponseType.Strain)\n",
      "(2400, 1)\n",
      "(144001, 2400)uilt FEMResponses in 0.01s, (ResponseType.YTranslation)\n",
      "(2400, 1)\n",
      "(144001, 2400)uilt FEMResponses in 0.01s, (ResponseType.Strain)\n",
      "(2400, 1)\n",
      "(144001, 2400)uilt FEMResponses in 0.01s, (ResponseType.YTranslation)\n",
      "(2400, 1)\n",
      "(144001, 2400)uilt FEMResponses in 0.01s, (ResponseType.Strain)\n",
      "(2400, 1)\n",
      "(144001, 2400)uilt FEMResponses in 0.01s, (ResponseType.YTranslation)\n",
      "(2400, 1)\n",
      "(144001, 2400)uilt FEMResponses in 0.01s, (ResponseType.Strain)\n",
      "(2400, 1)\n",
      "(144001, 2400)uilt FEMResponses in 0.01s, (ResponseType.YTranslation)\n",
      "(2400, 1)\n",
      "(144001, 2400)uilt FEMResponses in 0.01s, (ResponseType.Strain)\n",
      "(2400, 1)\n",
      "(144001, 2400)uilt FEMResponses in 0.01s, (ResponseType.YTranslation)\n",
      "(2400, 1)\n",
      "(144001, 2400)uilt FEMResponses in 0.01s, (ResponseType.Strain)\n",
      "(2400, 1)\n",
      "(144001, 2400)uilt FEMResponses in 0.01s, (ResponseType.YTranslation)\n",
      "(2400, 1)\n",
      "(144001, 2400)uilt FEMResponses in 0.01s, (ResponseType.Strain)\n",
      "(2400, 1)\n",
      "(144001, 2400)uilt FEMResponses in 0.01s, (ResponseType.YTranslation)\n",
      "(2400, 1)\n",
      "(144001, 2400)uilt FEMResponses in 0.01s, (ResponseType.Strain)\n",
      "(2400, 1)\n",
      "(144001, 2400)uilt FEMResponses in 0.01s, (ResponseType.YTranslation)\n",
      "(2400, 1)\n",
      "(144001, 2400)uilt FEMResponses in 0.01s, (ResponseType.Strain)\n",
      "(2400, 1)\n",
      "(144001, 2400)uilt FEMResponses in 0.01s, (ResponseType.YTranslation)\n",
      "(2400, 1)\n",
      "(144001, 2400)uilt FEMResponses in 0.01s, (ResponseType.Strain)\n",
      "(2400, 1)\n",
      "(144001, 2400)uilt FEMResponses in 0.01s, (ResponseType.YTranslation)\n",
      "(2400, 1)\n",
      "(144001, 2400)uilt FEMResponses in 0.02s, (ResponseType.Strain)\n",
      "(2400, 1)\n",
      "(144001, 2400)uilt FEMResponses in 0.01s, (ResponseType.YTranslation)\n",
      "(2400, 1)\n",
      "(144001, 2400)uilt FEMResponses in 0.01s, (ResponseType.Strain)\n",
      "(2400, 1)\n",
      "(144001, 2400)uilt FEMResponses in 0.01s, (ResponseType.YTranslation)\n",
      "(2400, 1)\n",
      "(144001, 2400)uilt FEMResponses in 0.01s, (ResponseType.Strain)\n",
      "(2400, 1)\n",
      "(144001, 2400)uilt FEMResponses in 0.01s, (ResponseType.YTranslation)\n",
      "(2400, 1)\n",
      "(144001, 2400)uilt FEMResponses in 0.01s, (ResponseType.Strain)\n",
      "(2400, 1)\n",
      "(144001, 2400)uilt FEMResponses in 0.01s, (ResponseType.YTranslation)\n",
      "(2400, 1)\n",
      "(144001, 2400)uilt FEMResponses in 0.02s, (ResponseType.Strain)\n",
      "(2400, 1)\n",
      "(144001, 2400)uilt FEMResponses in 0.01s, (ResponseType.YTranslation)\n",
      "(2400, 1)\n",
      "(144001, 2400)uilt FEMResponses in 0.01s, (ResponseType.Strain)\n",
      "(2400, 1)\n",
      "(144001, 2400)uilt FEMResponses in 0.01s, (ResponseType.YTranslation)\n",
      "(2400, 1)\n",
      "(144001, 2400)uilt FEMResponses in 0.02s, (ResponseType.Strain)\n",
      "(2400, 1)\n",
      "(144001, 2400)uilt FEMResponses in 0.01s, (ResponseType.YTranslation)\n",
      "(2400, 1)\n",
      "(144001, 2400)uilt FEMResponses in 0.02s, (ResponseType.Strain)\n",
      "(2400, 1)\n",
      "(144001, 2400)uilt FEMResponses in 0.02s, (ResponseType.YTranslation)\n",
      "(2400, 1)\n",
      "(144001, 2400)uilt FEMResponses in 0.02s, (ResponseType.Strain)\n",
      "(2400, 1)\n",
      "(144001, 2400)uilt FEMResponses in 0.01s, (ResponseType.YTranslation)\n",
      "(2400, 1)\n",
      "(144001, 2400)uilt FEMResponses in 0.02s, (ResponseType.Strain)\n",
      "(2400, 1)\n",
      "(144001, 2400)uilt FEMResponses in 0.01s, (ResponseType.YTranslation)\n",
      "(2400, 1)\n",
      "(144001, 2400)uilt FEMResponses in 0.01s, (ResponseType.Strain)\n",
      "(2400, 1)\n",
      "(144001, 2400)uilt FEMResponses in 0.01s, (ResponseType.YTranslation)\n",
      "(2400, 1)\n",
      "(144001, 2400)uilt FEMResponses in 0.02s, (ResponseType.Strain)\n",
      "(2400, 1)\n",
      "(144001, 2400)uilt FEMResponses in 0.01s, (ResponseType.YTranslation)\n",
      "(2400, 1)\n",
      "(144001, 2400)uilt FEMResponses in 0.02s, (ResponseType.Strain)\n",
      "(2400, 1)\n",
      "(144001, 2400)uilt FEMResponses in 0.01s, (ResponseType.YTranslation)\n",
      "(2400, 1)\n",
      "(144001, 2400)uilt FEMResponses in 0.01s, (ResponseType.Strain)\n",
      "(2400, 1)\n",
      "(144001, 2400)uilt FEMResponses in 0.01s, (ResponseType.YTranslation)\n",
      "(2400, 1)\n",
      "INFO: 24/24: Built FEMResponses in 0.02s, (ResponseType.Strain)\r"
     ]
    },
    {
     "data": {
      "text/plain": [
       "(61, 2, 144001)"
      ]
     },
     "execution_count": 6,
     "metadata": {},
     "output_type": "execute_result"
    }
   ],
   "source": [
    "responses = [[None for _ in response_types] for _ in damage_scenarios]\n",
    "for d_i, (damage_scenario, traffic_array) in enumerate(zip(damage_scenarios, traffic_arrays)):\n",
    "    for r_i, response_type in enumerate(response_types):\n",
    "        responses[d_i][r_i] = responses_to_traffic_array(\n",
    "            c=damage_scenario.use(c)[0],\n",
    "            traffic_array=traffic_array,\n",
    "            response_type=response_type,\n",
    "            damage_scenario=damage_scenario,\n",
    "            points=[sensor_point],\n",
    "        ).T[0]  # Responses from a single point.\n",
    "        # Resize responses into mm and strain.\n",
    "        if response_type == rt_y:\n",
    "            responses[d_i][r_i] = resize_y(responses[d_i][r_i])\n",
    "        elif response_type == rt_s:\n",
    "            responses[d_i][r_i] = resize_s(responses[d_i][r_i])\n",
    "responses = np.array(responses)\n",
    "responses.shape"
   ]
  },
  {
   "cell_type": "markdown",
   "metadata": {},
   "source": [
    "#### Removal of temperature effect."
   ]
  },
  {
   "cell_type": "code",
   "execution_count": 7,
   "metadata": {},
   "outputs": [
    {
     "ename": "NameError",
     "evalue": "name 'ij' is not defined",
     "output_type": "error",
     "traceback": [
      "\u001b[0;31m---------------------------------------------------------------------------\u001b[0m",
      "\u001b[0;31mNameError\u001b[0m                                 Traceback (most recent call last)",
      "\u001b[0;32m<ipython-input-7-25ae9ca71da3>\u001b[0m in \u001b[0;36m<module>\u001b[0;34m\u001b[0m\n\u001b[1;32m      6\u001b[0m     \u001b[0;32mif\u001b[0m \u001b[0mlen\u001b[0m\u001b[0;34m(\u001b[0m\u001b[0mday_str\u001b[0m\u001b[0;34m)\u001b[0m \u001b[0;34m==\u001b[0m \u001b[0;36m1\u001b[0m\u001b[0;34m:\u001b[0m \u001b[0mday_str\u001b[0m \u001b[0;34m=\u001b[0m \u001b[0;34m\"0\"\u001b[0m \u001b[0;34m+\u001b[0m \u001b[0mday_str\u001b[0m\u001b[0;34m\u001b[0m\u001b[0;34m\u001b[0m\u001b[0m\n\u001b[1;32m      7\u001b[0m     \u001b[0;32mif\u001b[0m \u001b[0mlen\u001b[0m\u001b[0;34m(\u001b[0m\u001b[0mmonth_str\u001b[0m\u001b[0;34m)\u001b[0m \u001b[0;34m==\u001b[0m \u001b[0;36m1\u001b[0m\u001b[0;34m:\u001b[0m \u001b[0mmonth_str\u001b[0m \u001b[0;34m=\u001b[0m \u001b[0;34m\"0\"\u001b[0m \u001b[0;34m+\u001b[0m \u001b[0mmonth_str\u001b[0m\u001b[0;34m\u001b[0m\u001b[0;34m\u001b[0m\u001b[0m\n\u001b[0;32m----> 8\u001b[0;31m     \u001b[0mtemp_i\u001b[0m\u001b[0;34m,\u001b[0m \u001b[0mtemp_j\u001b[0m \u001b[0;34m=\u001b[0m \u001b[0mij\u001b[0m\u001b[0;34m(\u001b[0m\u001b[0mtemps_2019\u001b[0m\u001b[0;34m,\u001b[0m \u001b[0;34mf\"2019-{month_str}-{day_str}T00:00\"\u001b[0m\u001b[0;34m,\u001b[0m \u001b[0;34mf\"2019-{month_str}-{day_str}T23:59\"\u001b[0m\u001b[0;34m)\u001b[0m\u001b[0;34m\u001b[0m\u001b[0;34m\u001b[0m\u001b[0m\n\u001b[0m\u001b[1;32m      9\u001b[0m     \u001b[0mday_temp\u001b[0m \u001b[0;34m=\u001b[0m \u001b[0mnp\u001b[0m\u001b[0;34m.\u001b[0m\u001b[0mmean\u001b[0m\u001b[0;34m(\u001b[0m\u001b[0mtemps_2019\u001b[0m\u001b[0;34m[\u001b[0m\u001b[0;34m\"temp\"\u001b[0m\u001b[0;34m]\u001b[0m\u001b[0;34m[\u001b[0m\u001b[0mtemp_i\u001b[0m\u001b[0;34m:\u001b[0m\u001b[0mtemp_j\u001b[0m\u001b[0;34m]\u001b[0m\u001b[0;34m)\u001b[0m\u001b[0;34m\u001b[0m\u001b[0;34m\u001b[0m\u001b[0m\n\u001b[1;32m     10\u001b[0m     \u001b[0mprint\u001b[0m\u001b[0;34m(\u001b[0m\u001b[0;34mf\"Day, month = {day_str}, {month_str}, Mean day temperature = {day_temp:.3f}\"\u001b[0m\u001b[0;34m,\u001b[0m \u001b[0mend\u001b[0m\u001b[0;34m=\u001b[0m\u001b[0;34m\"\\r\"\u001b[0m\u001b[0;34m)\u001b[0m\u001b[0;34m\u001b[0m\u001b[0;34m\u001b[0m\u001b[0m\n",
      "\u001b[0;31mNameError\u001b[0m: name 'ij' is not defined"
     ]
    }
   ],
   "source": [
    "downsample = 100\n",
    "data = []\n",
    "datetimes = []\n",
    "for month_i, day_i in itertools.product([7, 8, 9, 10, 11, 12], np.arange(1, 30 + 1)):\n",
    "    day_str, month_str = str(day_i), str(month_i)\n",
    "    if len(day_str) == 1: day_str = \"0\" + day_str\n",
    "    if len(month_str) == 1: month_str = \"0\" + month_str\n",
    "    temp_i, temp_j = ij(temps_2019, f\"2019-{month_str}-{day_str}T00:00\", f\"2019-{month_str}-{day_str}T23:59\")\n",
    "    day_temp = np.mean(temps_2019[\"temp\"][temp_i:temp_j])\n",
    "    print(f\"Day, month = {day_str}, {month_str}, Mean day temperature = {day_temp:.3f}\", end=\"\\r\")\n",
    "    rm_year_s = lr_s_2018.predict([[day_temp]])[0]\n",
    "    rm_year_y = lr_y_2018.predict([[day_temp]])[0]\n",
    "#     print(f\"Y/S effect from 2018 = {rm_year_y:.3f}, {rm_year_s}\")\n",
    "    datetimes.append(datetime.fromisoformat(f\"2019-{month_str}-{day_str}T00:00\"))\n",
    "    data.append([])\n",
    "    for (traffic_y, traffic_s), damage_name in zip(responses, damage_names):\n",
    "        temp_y = temperature.apply(effect=effect_2019_y[temp_i:temp_j], responses=traffic_y)\n",
    "        temp_s = temperature.apply(effect=effect_2019_s[temp_i:temp_j], responses=traffic_y)\n",
    "        _rm_24h_y, rm_24h_y = remove_sampled(24, traffic_y + temp_y)\n",
    "        _rm_24h_s, rm_24h_s = remove_sampled(24, traffic_s + temp_s)\n",
    "        signal_s = traffic_s + temp_s - rm_24h_s - rm_year_s\n",
    "        signal_y = traffic_y + temp_y - rm_24h_y - rm_year_y\n",
    "#         signal_s = traffic_s + temp_s - rm_year_s\n",
    "#         signal_y = traffic_y + temp_y - rm_year_y\n",
    "        data[-1].append(np.array([signal_y, signal_s]))\n",
    "for i in range(len(data)):\n",
    "    data[i] = np.array(data[i])\n",
    "# data = np.resize(data, (data.shape[1], data.shape[2], data.shape[0], data.shape[3]))\n",
    "print()\n",
    "len(data), data[0].shape"
   ]
  },
  {
   "cell_type": "markdown",
   "metadata": {},
   "source": [
    "#### 6 month daily prediction"
   ]
  },
  {
   "cell_type": "code",
   "execution_count": null,
   "metadata": {},
   "outputs": [],
   "source": [
    "results_daily = []\n",
    "for scen_i in range(data[0].shape[0]):\n",
    "    results_daily.append([])\n",
    "    for day_i in range(len(data)):\n",
    "        results_daily[-1].append(np.mean(data[day_i][scen_i][0]))\n",
    "results_daily = np.array(results_daily)\n",
    "# plt.plot(results_daily[0])\n",
    "results_daily.shape"
   ]
  },
  {
   "cell_type": "markdown",
   "metadata": {},
   "source": [
    "#### 6 month 14 day prediction"
   ]
  },
  {
   "cell_type": "code",
   "execution_count": null,
   "metadata": {},
   "outputs": [],
   "source": [
    "days = 14  # Number of days for robust estimator.\n",
    "results_robust = []\n",
    "for scen_i in range(len(results_daily)):\n",
    "    results_robust.append([])\n",
    "    for day_i in range(days, len(data)):\n",
    "        results_robust[-1].append(np.mean(results_daily[scen_i][day_i-days:day_i]))\n",
    "results_robust = np.array(results_robust)\n",
    "results_robust.shape\n",
    "plt.plot(results_robust[0])\n",
    "plt.plot(results_robust[-1])"
   ]
  },
  {
   "cell_type": "code",
   "execution_count": null,
   "metadata": {},
   "outputs": [],
   "source": [
    "threshold_step = -0.01\n",
    "thresholds = np.arange(start=1, stop=-3, step=threshold_step)\n",
    "counts = []  # Indexed by threshold then line/pier settlement.\n",
    "for threshold in thresholds:\n",
    "    # For each threshold, maintain a count for each line/pier settlement.\n",
    "    counts.append([0 for _ in range(results_robust.shape[0])])\n",
    "    for day_i in range(results_robust.shape[1]):\n",
    "        # For each day, check if each line is below threshold.\n",
    "        for line_i in range(results_robust.shape[0]):\n",
    "            if results_robust[line_i][day_i] < threshold:\n",
    "                counts[-1][line_i] += 1\n",
    "counts = np.array(counts).T\n",
    "counts.shape"
   ]
  },
  {
   "cell_type": "code",
   "execution_count": null,
   "metadata": {},
   "outputs": [],
   "source": [
    "# Start by plotting for one pier settlement.\n",
    "count_hs, count_ps = counts[0], counts[2]\n",
    "\n",
    "tp, fn = count_ps, results_robust.shape[1] - count_ps\n",
    "tn, fp = results_robust.shape[1] - count_hs, count_hs\n",
    "\n",
    "plt.plot(thresholds, (tp) / (fn + tp), label=\"Sensitivity\", color=\"tab:green\", lw=4)\n",
    "plt.plot(thresholds, (tn) / (fp + tn), label=\"Specificity\", color=\"tab:blue\", lw=4)\n",
    "plt.plot(thresholds, (fn) / (fn + tp), label=\"Miss rate\", color=\"tab:orange\", lw=4)\n",
    "plt.plot(thresholds, (fp) / (fp + tn), label=\"False positive rate\", color=\"tab:red\", lw=4)\n",
    "plt.plot(thresholds, (tn + tp) / (fn + fp + tn + tp), label=\"Accuracy\", color=\"black\", lw=4)\n",
    "plt.legend()\n",
    "plt.title(damage_names[2])"
   ]
  },
  {
   "cell_type": "markdown",
   "metadata": {},
   "source": [
    "#### Plot accuracy as a function of pier settlement"
   ]
  },
  {
   "cell_type": "code",
   "execution_count": null,
   "metadata": {},
   "outputs": [],
   "source": [
    "accuracies = []\n",
    "settlements = []\n",
    "for pier_i, pier_settlement in enumerate(damage_scenarios[1:]):\n",
    "    pier_settlement = pier_settlement.pier_disps[0].displacement * 1000\n",
    "    settlements.append(pier_settlement)\n",
    "    count_hs, count_ps = counts[0], counts[pier_i + 1]\n",
    "    tp, fn = count_ps, results_robust.shape[1] - count_ps\n",
    "    tn, fp = results_robust.shape[1] - count_hs, count_hs\n",
    "    accuracy = (tn + tp) / (fn + fp + tn + tp)  # For each threshold.\n",
    "    accuracies.append(sum(1 if a >= 1 else 0 for a in accuracy) * -threshold_step)\n",
    "plt.plot(settlements, accuracies)\n",
    "plt.ylabel(\"Range of 100% accurate sensor thresholds\")\n",
    "plt.xlabel(\"Settlement of pier 5 by (mm)\")\n",
    "plt.title(\"Accurate sensor thresholds as a function of pier settlement\")\n",
    "plt.savefig(os.path.join(IMAGE_PATH, f\"sensor-acc-{sensor_point.x:.0f}-{sensor_point.z:.0f}.pdf\"))"
   ]
  },
  {
   "cell_type": "code",
   "execution_count": null,
   "metadata": {},
   "outputs": [],
   "source": []
  },
  {
   "cell_type": "code",
   "execution_count": null,
   "metadata": {},
   "outputs": [],
   "source": []
  }
 ],
 "metadata": {
  "kernelspec": {
   "display_name": "Python 3",
   "language": "python",
   "name": "python3"
  },
  "language_info": {
   "codemirror_mode": {
    "name": "ipython",
    "version": 3
   },
   "file_extension": ".py",
   "mimetype": "text/x-python",
   "name": "python",
   "nbconvert_exporter": "python",
   "pygments_lexer": "ipython3",
   "version": "3.7.6"
  }
 },
 "nbformat": 4,
 "nbformat_minor": 4
}
