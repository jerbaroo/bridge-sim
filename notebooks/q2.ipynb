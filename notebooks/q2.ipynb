{
 "cells": [
  {
   "cell_type": "markdown",
   "metadata": {},
   "source": [
    "# Question 3"
   ]
  },
  {
   "cell_type": "markdown",
   "metadata": {},
   "source": [
    "#### Imports"
   ]
  },
  {
   "cell_type": "code",
   "execution_count": 31,
   "metadata": {},
   "outputs": [],
   "source": [
    "import os\n",
    "\n",
    "import numpy as np\n",
    "\n",
    "from classify.data.responses import responses_to_traffic_array\n",
    "from classify.data.traffic import load_traffic\n",
    "from classify.scenario.bridge import healthy_damage, pier_disp_damage\n",
    "from classify.scenario.traffic import normal_traffic\n",
    "from model.bridge import Point\n",
    "from model.bridge.bridge_705 import bridge_705_3d, bridge_705_med_config\n",
    "from model.response import ResponseType\n",
    "from util import resize_units"
   ]
  },
  {
   "cell_type": "markdown",
   "metadata": {},
   "source": [
    "#### Config"
   ]
  },
  {
   "cell_type": "code",
   "execution_count": 32,
   "metadata": {},
   "outputs": [
    {
     "name": "stdout",
     "output_type": "stream",
     "text": [
      "INFO: Loaded vehicle data from /Users/jeremy/cs/bridge-dss/data/a16-data/a16.csv in 0.24s\n",
      "WARN: Vehicle PDF sums to 99.5, adjusted to sum to 1\n"
     ]
    }
   ],
   "source": [
    "DATA_PATH = \"/Users/jeremy/Desktop/mesh-med-600-mar/\"\n",
    "IMAGE_PATH = \"/Users/jeremy/Desktop/saved-images/\"\n",
    "c = bridge_705_med_config(bridge_705_3d)\n",
    "# Set the directory of where to save/load responses.\n",
    "c.root_generated_data_dir = os.path.join(DATA_PATH, c.root_generated_data_dir)"
   ]
  },
  {
   "cell_type": "markdown",
   "metadata": {},
   "source": [
    "#### Aliases and sensors"
   ]
  },
  {
   "cell_type": "code",
   "execution_count": 33,
   "metadata": {},
   "outputs": [],
   "source": [
    "# Short aliases for response types.\n",
    "rt_y = ResponseType.YTranslation\n",
    "rt_s = ResponseType.Strain\n",
    "\n",
    "# Create functions to resize, and unit strings, for each response type.\n",
    "resize_y, units_y = resize_units(rt_y.units())\n",
    "resize_s, _ = resize_units(rt_s.units())\n",
    "\n",
    "sensor_point = Point(x=21, y=0, z=-8.4)  # A sensor point to investigate.\n",
    "sensor_point = Point(x=33, y=0, z=-4)  # A sensor point to investigate."
   ]
  },
  {
   "cell_type": "markdown",
   "metadata": {},
   "source": [
    "#### Traffic data"
   ]
  },
  {
   "cell_type": "code",
   "execution_count": 34,
   "metadata": {},
   "outputs": [
    {
     "name": "stdout",
     "output_type": "stream",
     "text": [
      "/Users/jeremy/Desktop/mesh-med-600-mar/generated-data/bridge-705-3d/healthy/traffic/normal-lam-5-600-1440-0,01.npy\n"
     ]
    }
   ],
   "source": [
    "total_mins = 24\n",
    "total_seconds = total_mins * 60\n",
    "traffic_scenario = normal_traffic(c=c, lam=5, min_d=2)\n",
    "traffic_sequence_0, traffic_0, traffic_array_0 = load_traffic(\n",
    "    c=c,\n",
    "    traffic_scenario=traffic_scenario,\n",
    "    max_time=total_seconds,\n",
    ")"
   ]
  },
  {
   "cell_type": "markdown",
   "metadata": {},
   "source": [
    "#### Setup each damage scenario."
   ]
  },
  {
   "cell_type": "code",
   "execution_count": 35,
   "metadata": {},
   "outputs": [],
   "source": [
    "damage_scenarios = [healthy_damage, pier_disp_damage([(5, 3 / 1000)])]\n",
    "traffic_arrays = [traffic_array_0, traffic_array_0]\n",
    "damage_names = [\"Healthy\", \"Pier settlement by 3 mm\"]\n",
    "response_types = [rt_y, rt_s]"
   ]
  },
  {
   "cell_type": "markdown",
   "metadata": {},
   "source": [
    "#### Collect responses under each damage scenario."
   ]
  },
  {
   "cell_type": "code",
   "execution_count": 36,
   "metadata": {},
   "outputs": [
    {
     "name": "stdout",
     "output_type": "stream",
     "text": [
      "(144001, 2400)\n",
      "(2400, 1)\n",
      "(144001, 2400)\n",
      "(2400, 1)\n",
      "(144001, 2400)\n",
      "(2400, 1)\n",
      "(144001, 2400)uilt FEMResponses in 0.01s, (ResponseType.YTranslation)\n",
      "(2400, 1)\n",
      "INFO: 24/24: Built FEMResponses in 0.13s, (ResponseType.Strain)\r"
     ]
    },
    {
     "data": {
      "text/plain": [
       "(2, 2, 144001)"
      ]
     },
     "execution_count": 36,
     "metadata": {},
     "output_type": "execute_result"
    }
   ],
   "source": [
    "responses = [[None for _ in response_types] for _ in damage_scenarios]\n",
    "for d_i, (damage_scenario, traffic_array) in enumerate(zip(damage_scenarios, traffic_arrays)):\n",
    "    for r_i, response_type in enumerate(response_types):\n",
    "        responses[d_i][r_i] = responses_to_traffic_array(\n",
    "            c=damage_scenario.use(c)[0],\n",
    "            traffic_array=traffic_array,\n",
    "            response_type=response_type,\n",
    "            damage_scenario=damage_scenario,\n",
    "            points=[sensor_point],\n",
    "        ).T[0]  # Responses from a single point.\n",
    "        # Resize responses into mm and strain.\n",
    "        if response_type == rt_y:\n",
    "            responses[d_i][r_i] = resize_y(responses[d_i][r_i])\n",
    "        elif response_type == rt_s:\n",
    "            responses[d_i][r_i] = resize_s(responses[d_i][r_i])\n",
    "responses = np.array(responses)\n",
    "responses.shape"
   ]
  },
  {
   "cell_type": "markdown",
   "metadata": {},
   "source": [
    "#### Removal of temperature effect"
   ]
  },
  {
   "cell_type": "code",
   "execution_count": 37,
   "metadata": {},
   "outputs": [
    {
     "ename": "NameError",
     "evalue": "name 'itertools' is not defined",
     "output_type": "error",
     "traceback": [
      "\u001b[0;31m---------------------------------------------------------------------------\u001b[0m",
      "\u001b[0;31mNameError\u001b[0m                                 Traceback (most recent call last)",
      "\u001b[0;32m<ipython-input-37-619df322e33c>\u001b[0m in \u001b[0;36m<module>\u001b[0;34m\u001b[0m\n\u001b[1;32m      2\u001b[0m \u001b[0mdata\u001b[0m \u001b[0;34m=\u001b[0m \u001b[0;34m[\u001b[0m\u001b[0;34m]\u001b[0m\u001b[0;34m\u001b[0m\u001b[0;34m\u001b[0m\u001b[0m\n\u001b[1;32m      3\u001b[0m \u001b[0mdatetimes\u001b[0m \u001b[0;34m=\u001b[0m \u001b[0;34m[\u001b[0m\u001b[0;34m]\u001b[0m\u001b[0;34m\u001b[0m\u001b[0;34m\u001b[0m\u001b[0m\n\u001b[0;32m----> 4\u001b[0;31m \u001b[0;32mfor\u001b[0m \u001b[0mmonth_i\u001b[0m\u001b[0;34m,\u001b[0m \u001b[0mday_i\u001b[0m \u001b[0;32min\u001b[0m \u001b[0mitertools\u001b[0m\u001b[0;34m.\u001b[0m\u001b[0mproduct\u001b[0m\u001b[0;34m(\u001b[0m\u001b[0;34m[\u001b[0m\u001b[0;36m7\u001b[0m\u001b[0;34m,\u001b[0m \u001b[0;36m8\u001b[0m\u001b[0;34m,\u001b[0m \u001b[0;36m9\u001b[0m\u001b[0;34m,\u001b[0m \u001b[0;36m10\u001b[0m\u001b[0;34m,\u001b[0m \u001b[0;36m11\u001b[0m\u001b[0;34m,\u001b[0m \u001b[0;36m12\u001b[0m\u001b[0;34m]\u001b[0m\u001b[0;34m,\u001b[0m \u001b[0mnp\u001b[0m\u001b[0;34m.\u001b[0m\u001b[0marange\u001b[0m\u001b[0;34m(\u001b[0m\u001b[0;36m1\u001b[0m\u001b[0;34m,\u001b[0m \u001b[0;36m30\u001b[0m \u001b[0;34m+\u001b[0m \u001b[0;36m1\u001b[0m\u001b[0;34m)\u001b[0m\u001b[0;34m)\u001b[0m\u001b[0;34m:\u001b[0m\u001b[0;34m\u001b[0m\u001b[0;34m\u001b[0m\u001b[0m\n\u001b[0m\u001b[1;32m      5\u001b[0m     \u001b[0mday_str\u001b[0m\u001b[0;34m,\u001b[0m \u001b[0mmonth_str\u001b[0m \u001b[0;34m=\u001b[0m \u001b[0mstr\u001b[0m\u001b[0;34m(\u001b[0m\u001b[0mday_i\u001b[0m\u001b[0;34m)\u001b[0m\u001b[0;34m,\u001b[0m \u001b[0mstr\u001b[0m\u001b[0;34m(\u001b[0m\u001b[0mmonth_i\u001b[0m\u001b[0;34m)\u001b[0m\u001b[0;34m\u001b[0m\u001b[0;34m\u001b[0m\u001b[0m\n\u001b[1;32m      6\u001b[0m     \u001b[0;32mif\u001b[0m \u001b[0mlen\u001b[0m\u001b[0;34m(\u001b[0m\u001b[0mday_str\u001b[0m\u001b[0;34m)\u001b[0m \u001b[0;34m==\u001b[0m \u001b[0;36m1\u001b[0m\u001b[0;34m:\u001b[0m \u001b[0mday_str\u001b[0m \u001b[0;34m=\u001b[0m \u001b[0;34m\"0\"\u001b[0m \u001b[0;34m+\u001b[0m \u001b[0mday_str\u001b[0m\u001b[0;34m\u001b[0m\u001b[0;34m\u001b[0m\u001b[0m\n",
      "\u001b[0;31mNameError\u001b[0m: name 'itertools' is not defined"
     ]
    }
   ],
   "source": [
    "downsample = 100\n",
    "data = []\n",
    "datetimes = []\n",
    "for month_i, day_i in itertools.product([7, 8, 9, 10, 11, 12], np.arange(1, 30 + 1)):\n",
    "    day_str, month_str = str(day_i), str(month_i)\n",
    "    if len(day_str) == 1: day_str = \"0\" + day_str\n",
    "    if len(month_str) == 1: month_str = \"0\" + month_str\n",
    "    temp_i, temp_j = ij(temps_2019, f\"2019-{month_str}-{day_str}T00:00\", f\"2019-{month_str}-{day_str}T23:59\")\n",
    "    day_temp = np.mean(temps_2019[\"temp\"][temp_i:temp_j])\n",
    "    print(f\"Day, month = {day_str}, {month_str}, Mean day temperature = {day_temp:.3f}\", end=\"\\r\")\n",
    "    rm_year_s = lr_s_2018.predict([[day_temp]])[0]\n",
    "    rm_year_y = lr_y_2018.predict([[day_temp]])[0]\n",
    "#     print(f\"Y/S effect from 2018 = {rm_year_y:.3f}, {rm_year_s}\")\n",
    "    datetimes.append(datetime.fromisoformat(f\"2019-{month_str}-{day_str}T00:00\"))\n",
    "    data.append([])\n",
    "    for (traffic_y, traffic_s), damage_name in zip(responses, damage_names):\n",
    "        temp_y = temperature.apply(effect=effect_2019_y[temp_i:temp_j], responses=traffic_y)\n",
    "        temp_s = temperature.apply(effect=effect_2019_s[temp_i:temp_j], responses=traffic_y)\n",
    "        _rm_24h_y, rm_24h_y = remove_sampled(24, traffic_y + temp_y)\n",
    "        _rm_24h_s, rm_24h_s = remove_sampled(24, traffic_s + temp_s)\n",
    "        signal_s = traffic_s + temp_s - rm_24h_s - rm_year_s\n",
    "        signal_y = traffic_y + temp_y - rm_24h_y - rm_year_y\n",
    "#         signal_s = traffic_s + temp_s - rm_year_s\n",
    "#         signal_y = traffic_y + temp_y - rm_year_y\n",
    "        data[-1].append(np.array([signal_y, signal_s]))\n",
    "data = np.array(data)\n",
    "# data = np.resize(data, (data.shape[1], data.shape[2], data.shape[0], data.shape[3]))\n",
    "data.shape"
   ]
  },
  {
   "cell_type": "markdown",
   "metadata": {},
   "source": [
    "#### 6 month daily prediction"
   ]
  },
  {
   "cell_type": "code",
   "execution_count": null,
   "metadata": {},
   "outputs": [],
   "source": [
    "healthy_y, pier_y = [], []\n",
    "for day_i in range(data.shape[0]):\n",
    "    healthy_y.append(np.mean(data[day_i][0][0]))\n",
    "    pier_y.append(np.mean(data[day_i][1][0]))\n",
    "healthy_y, pier_y = np.array(healthy_y), np.array(pier_y)"
   ]
  },
  {
   "cell_type": "markdown",
   "metadata": {},
   "source": [
    "#### 6 month 14 day prediction"
   ]
  },
  {
   "cell_type": "code",
   "execution_count": null,
   "metadata": {},
   "outputs": [],
   "source": [
    "days = 14  # Number of days for robust estimator.\n",
    "healthy_robust, pier_robust = [], []\n",
    "for i in range(days, len(healthy_y)):\n",
    "    healthy_robust.append(np.mean(healthy_y[i-days:i]))\n",
    "    pier_robust.append(np.mean(pier_y[i-days:i]))\n",
    "healthy_robust, pier_robust = np.array(healthy_robust), np.array(pier_robust)"
   ]
  },
  {
   "cell_type": "markdown",
   "metadata": {},
   "source": [
    "#### Plotting prediction"
   ]
  },
  {
   "cell_type": "code",
   "execution_count": null,
   "metadata": {},
   "outputs": [],
   "source": [
    "plt.plot(datetimes, healthy_y)\n",
    "plt.plot(datetimes, pier_y)\n",
    "plt.plot(datetimes[days:], healthy_robust)\n",
    "plt.plot(datetimes[days:], pier_robust)"
   ]
  },
  {
   "cell_type": "markdown",
   "metadata": {},
   "source": [
    "#### Classify based on accuracy"
   ]
  },
  {
   "cell_type": "code",
   "execution_count": null,
   "metadata": {},
   "outputs": [],
   "source": [
    "thresholds = np.arange(start=1, stop=-3, step=-0.01)\n",
    "count_hs, count_ps = [], []\n",
    "for threshold in thresholds:\n",
    "    count_h, count_p = 0, 0\n",
    "    for day_i in range(len(healthy_robust)):\n",
    "        if healthy_robust[day_i] < threshold:\n",
    "            count_h += 1\n",
    "        if pier_robust[day_i] < threshold:\n",
    "            count_p += 1\n",
    "    count_hs.append(count_h)\n",
    "    count_ps.append(count_p)\n",
    "count_hs, count_ps = np.array(count_hs), np.array(count_ps)\n",
    "#     print(f\"Threshold = {threshold}, healthy: {count_h / len(healthy_robust)}, pier: {count_p / len(healthy_robust)}\")"
   ]
  },
  {
   "cell_type": "markdown",
   "metadata": {},
   "source": [
    "#### Plot threshold."
   ]
  },
  {
   "cell_type": "code",
   "execution_count": null,
   "metadata": {},
   "outputs": [],
   "source": [
    "tp, fn = count_ps, len(pier_robust) - count_ps\n",
    "tn, fp = len(pier_robust) - count_hs, count_hs\n",
    "# plt.plot(thresholds, tp / len(pier_robust), label=\"True negative\", color=\"tab:blue\", lw=4)\n",
    "# plt.plot(thresholds, fn / len(pier_robust), label=\"False positive\", color=\"tab:red\", lw=4)\n",
    "# plt.plot(thresholds, tn / len(pier_robust), label=\"True positive\", color=\"tab:green\", lw=4)\n",
    "# plt.plot(thresholds, fp / len(pier_robust), label=\"False negative\", color=\"tab:orange\", lw=4)\n",
    "plt.plot(thresholds, (tp) / (fn + tp), label=\"Sensitivity\", color=\"tab:green\", lw=4)\n",
    "plt.plot(thresholds, (tn) / (fp + tn), label=\"Specificity\", color=\"tab:blue\", lw=4)\n",
    "plt.plot(thresholds, (fn) / (fn + tp), label=\"Miss rate\", color=\"tab:orange\", lw=4)\n",
    "plt.plot(thresholds, (fp) / (fp + tn), label=\"False positive rate\", color=\"tab:red\", lw=4)\n",
    "plt.plot(thresholds, (tn + tp) / (fn + fp + tn + tp), label=\"Accuracy\", color=\"black\", lw=4)\n",
    "# plt.plot(thresholds, (tp) / (tp + fn), label=\"Accuracy\")\n",
    "plt.ylabel(\"Rate\")\n",
    "plt.xlabel(\"Y translation threshold\")\n",
    "plt.legend(loc=\"upper right\")\n",
    "plt.title(f\"Classification as a function of Y translation threshold\\nJuly - Dec, at sensor at x = {sensor_point.x:.1f} m, z = {sensor_point.z:.1f} m\")\n",
    "plt.savefig(os.path.join(IMAGE_PATH, f\"fp-fp-tn-tp-{sensor_point.x:.0f}-{sensor_point.z:.0f}.pdf\"))"
   ]
  },
  {
   "cell_type": "code",
   "execution_count": null,
   "metadata": {},
   "outputs": [],
   "source": []
  }
 ],
 "metadata": {
  "kernelspec": {
   "display_name": "Python 3",
   "language": "python",
   "name": "python3"
  },
  "language_info": {
   "codemirror_mode": {
    "name": "ipython",
    "version": 3
   },
   "file_extension": ".py",
   "mimetype": "text/x-python",
   "name": "python",
   "nbconvert_exporter": "python",
   "pygments_lexer": "ipython3",
   "version": "3.7.6"
  }
 },
 "nbformat": 4,
 "nbformat_minor": 4
}
